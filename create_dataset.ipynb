{
 "cells": [
  {
   "cell_type": "code",
   "execution_count": 1,
   "metadata": {},
   "outputs": [],
   "source": [
    "import pandas as pd\n",
    "\n",
    "# Langkah 1:  Membaca data dari file csv\n",
    "df = pd.read_csv('./data/kuliner.csv')"
   ]
  },
  {
   "cell_type": "code",
   "execution_count": 2,
   "metadata": {},
   "outputs": [],
   "source": [
    "# Langkah 2: Memisahkan data \"Nama UMKM\" dan \"Alamat\" menjadi stores.csv\n",
    "stores_df = df[[\"Nama UMKM\", \"Alamat\"]].drop_duplicates().reset_index(drop=True)\n",
    "stores_df[\"ID\"] = range(1, len(stores_df) + 1)\n",
    "stores_df = stores_df[[\"ID\", \"Nama UMKM\", \"Alamat\"]]\n",
    "\n",
    "# Menyimpan stores.csv\n",
    "stores_output_path = \"./recommendation/stores.csv\"\n",
    "stores_df.to_csv(stores_output_path, index=False)"
   ]
  },
  {
   "cell_type": "code",
   "execution_count": 3,
   "metadata": {},
   "outputs": [],
   "source": [
    "# Langkah 3: Memisahkan data \"Jenis Makanan\" menjadi menu.csv\n",
    "# Membuat kamus untuk UMKM ID berdasarkan Nama UMKM\n",
    "umkm_id_dict = stores_df.set_index(\"Nama UMKM\")[\"ID\"].to_dict()\n",
    "\n",
    "menu_df = df[[\"Nama UMKM\", \"Jenis Makanan\"]].drop_duplicates().reset_index(drop=True)\n",
    "menu_df[\"UMKM ID\"] = menu_df[\"Nama UMKM\"].map(umkm_id_dict)\n",
    "menu_df[\"ID\"] = range(1, len(menu_df) + 1)\n",
    "menu_df = menu_df[[\"ID\", \"Jenis Makanan\", \"UMKM ID\"]]\n",
    "\n",
    "# Menyimpan menu.csv\n",
    "menu_output_path = \"./recommendation/menu.csv\"\n",
    "menu_df.to_csv(menu_output_path, index=False)"
   ]
  },
  {
   "cell_type": "code",
   "execution_count": 8,
   "metadata": {},
   "outputs": [],
   "source": [
    "# Langkah 4: Membuat data dummy untuk user\n",
    "import numpy as np\n",
    "\n",
    "# Menentukan jumlah user\n",
    "num_users = 100\n",
    "\n",
    "# Membuat data ID untuk user\n",
    "user_id = range(1, num_user + 1)\n",
    "\n",
    "# Membuat data Nama User\n",
    "first_names = ['John', 'Jane', 'Alex', 'Chris', 'Katie', 'Michael', 'Sarah', 'David', 'Laura', 'Robert']\n",
    "last_names = ['Smith', 'Johnson', 'Williams', 'Brown', 'Jones', 'Garcia', 'Miller', 'Davis', 'Rodriguez', 'Martinez']\n",
    "names = [f\"{np.random.choice(first_names)} {np.random.choice(last_names)}\" for _ in range(num_users)]\n",
    "\n",
    "# Membuat data Umur (random antara 18 hingga 70)\n",
    "ages = np.random.randint(18, 71, size=num_user)\n",
    "\n",
    "# Membuat data Jenis Kelamin user (random antara 'Laki-laki' dan 'Perempuan')\n",
    "genders = np.random.choice([\"Laki-laki\", \"Perempuan\"])\n",
    "\n",
    "# Membuat data Email User\n",
    "domains = [\"example.com\", \"mail.com\", \"test.com\", \"demo.com\"]\n",
    "emails = [f\"{name.lower().replace(' ', '.')}@{np.random.choice(domains)}\" for name in names]\n",
    "\n",
    "# Membuat DataFrame\n",
    "df_users = pd.DataFrame({\n",
    "    \"User ID\": user_id,\n",
    "    \"Name\": names,\n",
    "    \"Age\": ages,\n",
    "    \"Gender\": genders,\n",
    "    \"Email\": emails\n",
    "})\n",
    "\n",
    "# Simpan ke file csv\n",
    "user_output_path = \"./recommendation/users.csv\"\n",
    "df_users.to_csv(user_output_path, index=False)"
   ]
  },
  {
   "cell_type": "code",
   "execution_count": 11,
   "metadata": {},
   "outputs": [],
   "source": [
    "# Langkah 5: Membuat data rating dan komentar\n",
    "# Baca data menu.csv\n",
    "menu_path = \"./recommendation/menu.csv\"\n",
    "df_menu = pd.read_csv(menu_path)\n",
    "\n",
    "# Buat cross-join antara user dan menu\n",
    "df_cross = pd.merge(df_users.assign(key=1), df_menu.assign(key=1), on='key').drop('key', axis=1)\n",
    "\n",
    "# Buat data rating dan komentar secara random\n",
    "ratings = np.random.randint(1, 6, size=len(df_cross))  # Rating antara 1 dan 5\n",
    "comments = ['Good', 'Average', 'Excellent', 'Poor', 'Fantastic', 'Bad', 'Nice', 'Delicious', 'Not bad', 'Could be better']\n",
    "df_cross['Rating'] = ratings\n",
    "df_cross['Comment'] = [np.random.choice(comments) for _ in range(len(df_cross))]\n",
    "\n",
    "# Buat DataFrame untuk ratings\n",
    "df_ratings = df_cross[['User ID', 'ID', 'Rating', 'Comment']].rename(columns={'ID': 'Menu ID'})\n",
    "\n",
    "# Tambahkan ID untuk setiap rating\n",
    "df_ratings['Rating ID'] = range(1, len(df_ratings) + 1)\n",
    "df_ratings = df_ratings[['Rating ID', 'Menu ID', 'User ID', 'Rating', 'Comment']]\n",
    "\n",
    "# Simpan data ratings ke file CSV\n",
    "ratings_output_path = './recommendation/ratings.csv'\n",
    "df_ratings.to_csv(ratings_output_path, index=False)\n"
   ]
  }
 ],
 "metadata": {
  "kernelspec": {
   "display_name": ".venv",
   "language": "python",
   "name": "python3"
  },
  "language_info": {
   "codemirror_mode": {
    "name": "ipython",
    "version": 3
   },
   "file_extension": ".py",
   "mimetype": "text/x-python",
   "name": "python",
   "nbconvert_exporter": "python",
   "pygments_lexer": "ipython3",
   "version": "3.9.16"
  },
  "orig_nbformat": 4
 },
 "nbformat": 4,
 "nbformat_minor": 2
}
